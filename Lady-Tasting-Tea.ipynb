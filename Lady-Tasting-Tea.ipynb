{
 "cells": [
  {
   "cell_type": "markdown",
   "metadata": {},
   "source": [
    "# Lady Tasting Tea - An Investigation\n",
    "\n",
    "![Title](TastingTeaImage.jpg) Source(Math et al, 2015)\n",
    "\n",
    "One hundred years ago, an English lady, Dr Muriel Bristol, amazed some leading statisticians by proving that she could determine by taste the order in which the constituents are poured in a cup of tea. One of the statisticians was Ronald Fisher. The other was William Roach, who was to marry Bristol shortly afterwards.\n",
    "\n",
    "Many decisions in medicine, economics and other fields depend on carefully designed experiments. For example, before a new treatment is proposed, its efficacy must be established by a series of rigorous tests. Everyone is different, and no one course of treatment is necessarily best in all cases. Statistical evaluation of data is an essential part of the evaluation of new drugs.\n",
    "Fisher investigated the design of statistical tests and described many of his ideas in a book The Design of Experiments. To exemplify some key ideas, he described a quirky experiment to investigate Bristol’s claim that she could distinguish if the milk was poured before or after the tea.\n",
    "\n",
    "Shortly after Fisher had moved to Rothamsted research station in 1919, he poured a cup of tea and offered it to Bristol. She declined, saying that she preferred the milk to be poured first. The arrogant young Fisher scoffed at this, insisting that it could not possibly make any difference, but Bristol maintained her stance, assuring him that she would always know the difference. Overhearing this exchange, another scientist, Roach said, “Let’s test her.”\n",
    "The assumption that Bristol had no skill is known as the null hypothesis\n",
    "How should the test be arranged? How many cups of tea should be poured? In what order should they be presented? How about miscellaneous factors such as temperature, sweetness and so on? How was a conclusion to be drawn from the results? Fisher considered all these factors, and more, in his book.\n",
    "\n",
    "Randomise\n",
    "Fisher proposed to present eight cups to tea to the lady, four of each variety (milk first or tea first). Ideally, they should be identical in every respect except the order of pouring. He argued that the best way to present the drinks was to randomise the order.\n",
    "\n",
    "Assuming that there is no ability to discriminate, each choice is correct or incorrect with equal probability. Thus, if eight cups are presented, the four cups chosen as “milk first” are equally likely to be any four of the eight. How many ways are there of selecting four items out of eight? This is a standard problem in combinatorics, and the answer is written as Choose (8,4). There is a button on most scientific calculators to evaluate this, and the result is 70.\n",
    "\n",
    "If Bristol had no ability to distinguish between the drinks, each of these 70 ways was equally probable. But her selection would be completely correct for only one of the 70 cases. So, if she had no ability to taste the difference, she had only a 1-in-70 chance of making no errors.\n",
    "\n",
    "The assumption that Bristol had no skill is known as the null hypothesis. It was introduced by Fisher, who also proposed a threshold probability of 1-in-20 or 5 per cent as a limit for statistical significance.\n",
    "The null hypothesis is assumed to be true unless evidence emerges that indicates that it is invalid. In the present case, it implies that there is no relationship between the choices Bristol made in each case and the actual variety of the drink.\n",
    "\n",
    "Bristol successfully identified the correct category in each of the eight cases. Since the probability of this happening by chance was about 1.4 per cent, well below the threshold, Fisher was forced to reject the null hypothesis and concede that Dr Muriel Bristol was indeed gifted with the ability to distinguish by taste the order of pouring. (The Irish times, 2019)\n"
   ]
  },
  {
   "cell_type": "markdown",
   "metadata": {},
   "source": [
    "## Number of ways of selecting cups.\n",
    "\n",
    "In this section we will go over the number of ways in which the lady can arrange the eight cups into two sets of four, the cups with milk first and the cups with the tea first."
   ]
  },
  {
   "cell_type": "code",
   "execution_count": 1,
   "metadata": {},
   "outputs": [
    {
     "data": {
      "text/plain": [
       "[0, 1, 2, 3, 4, 5, 6, 7]"
      ]
     },
     "execution_count": 1,
     "metadata": {},
     "output_type": "execute_result"
    }
   ],
   "source": [
    "# Create a list for the cups one to eight.\n",
    "cups = list(range(8)) # Create the list.\n",
    "cups # Displays the list below."
   ]
  },
  {
   "cell_type": "markdown",
   "metadata": {},
   "source": [
    "How many ways to select four items from this list?"
   ]
  },
  {
   "cell_type": "code",
   "execution_count": 2,
   "metadata": {},
   "outputs": [
    {
     "data": {
      "text/plain": [
       "1680"
      ]
     },
     "execution_count": 2,
     "metadata": {},
     "output_type": "execute_result"
    }
   ],
   "source": [
    "# How many ways to select four items from this list?\n",
    "# Eight choices, then seven, then six and then left with five choices.\n",
    "# 8 x 7 x 6 x 5;\n",
    "8*7*6*5 # Displys the number of ways to select something from this list"
   ]
  },
  {
   "cell_type": "markdown",
   "metadata": {},
   "source": [
    "So now we divide 1680 by (4 * 3 * 2 * 1) "
   ]
  },
  {
   "cell_type": "code",
   "execution_count": 5,
   "metadata": {},
   "outputs": [
    {
     "name": "stdout",
     "output_type": "stream",
     "text": [
      "There are 70 different ways they can pick four cups out of the eight.\n"
     ]
    },
    {
     "data": {
      "text/plain": [
       "70.0"
      ]
     },
     "execution_count": 5,
     "metadata": {},
     "output_type": "execute_result"
    }
   ],
   "source": [
    "print(\"There are 70 different ways they can pick four cups out of the eight.\")\n",
    "(8*7*6*5)/(4*3*2*1)"
   ]
  },
  {
   "cell_type": "markdown",
   "metadata": {},
   "source": [
    "If the subject is picking randomly (i.e. if they can't really tell which cups have the milk in first) then they are randomly picking one of seventy different options. Therefore, they have only a probabilty of 1/70 chance of getting the right answer.\n"
   ]
  },
  {
   "cell_type": "markdown",
   "metadata": {},
   "source": [
    "**If you want to see all the possible combinations of picking four cups from the eight, we can import the following Python function, this will display all of them.**"
   ]
  },
  {
   "cell_type": "code",
   "execution_count": 39,
   "metadata": {},
   "outputs": [],
   "source": [
    "# function which displays all the possible outcomes.\n",
    "import itertools"
   ]
  },
  {
   "cell_type": "code",
   "execution_count": 40,
   "metadata": {
    "scrolled": true
   },
   "outputs": [
    {
     "data": {
      "text/plain": [
       "[(0, 1, 2, 3),\n",
       " (0, 1, 2, 4),\n",
       " (0, 1, 2, 5),\n",
       " (0, 1, 2, 6),\n",
       " (0, 1, 2, 7),\n",
       " (0, 1, 3, 4),\n",
       " (0, 1, 3, 5),\n",
       " (0, 1, 3, 6),\n",
       " (0, 1, 3, 7),\n",
       " (0, 1, 4, 5),\n",
       " (0, 1, 4, 6),\n",
       " (0, 1, 4, 7),\n",
       " (0, 1, 5, 6),\n",
       " (0, 1, 5, 7),\n",
       " (0, 1, 6, 7),\n",
       " (0, 2, 3, 4),\n",
       " (0, 2, 3, 5),\n",
       " (0, 2, 3, 6),\n",
       " (0, 2, 3, 7),\n",
       " (0, 2, 4, 5),\n",
       " (0, 2, 4, 6),\n",
       " (0, 2, 4, 7),\n",
       " (0, 2, 5, 6),\n",
       " (0, 2, 5, 7),\n",
       " (0, 2, 6, 7),\n",
       " (0, 3, 4, 5),\n",
       " (0, 3, 4, 6),\n",
       " (0, 3, 4, 7),\n",
       " (0, 3, 5, 6),\n",
       " (0, 3, 5, 7),\n",
       " (0, 3, 6, 7),\n",
       " (0, 4, 5, 6),\n",
       " (0, 4, 5, 7),\n",
       " (0, 4, 6, 7),\n",
       " (0, 5, 6, 7),\n",
       " (1, 2, 3, 4),\n",
       " (1, 2, 3, 5),\n",
       " (1, 2, 3, 6),\n",
       " (1, 2, 3, 7),\n",
       " (1, 2, 4, 5),\n",
       " (1, 2, 4, 6),\n",
       " (1, 2, 4, 7),\n",
       " (1, 2, 5, 6),\n",
       " (1, 2, 5, 7),\n",
       " (1, 2, 6, 7),\n",
       " (1, 3, 4, 5),\n",
       " (1, 3, 4, 6),\n",
       " (1, 3, 4, 7),\n",
       " (1, 3, 5, 6),\n",
       " (1, 3, 5, 7),\n",
       " (1, 3, 6, 7),\n",
       " (1, 4, 5, 6),\n",
       " (1, 4, 5, 7),\n",
       " (1, 4, 6, 7),\n",
       " (1, 5, 6, 7),\n",
       " (2, 3, 4, 5),\n",
       " (2, 3, 4, 6),\n",
       " (2, 3, 4, 7),\n",
       " (2, 3, 5, 6),\n",
       " (2, 3, 5, 7),\n",
       " (2, 3, 6, 7),\n",
       " (2, 4, 5, 6),\n",
       " (2, 4, 5, 7),\n",
       " (2, 4, 6, 7),\n",
       " (2, 5, 6, 7),\n",
       " (3, 4, 5, 6),\n",
       " (3, 4, 5, 7),\n",
       " (3, 4, 6, 7),\n",
       " (3, 5, 6, 7),\n",
       " (4, 5, 6, 7)]"
      ]
     },
     "execution_count": 40,
     "metadata": {},
     "output_type": "execute_result"
    }
   ],
   "source": [
    "poss = list(itertools.combinations(cups, 4)) # from the list ouptut all the poss outcomes.\n",
    "poss # displays the vales"
   ]
  },
  {
   "cell_type": "markdown",
   "metadata": {},
   "source": [
    "### The Null Hypothesis\n",
    "A null hypothesis is a type of hypothesis used in statistics that proposes that no statistical significance exists in a set of given observations. The null hypothesis attempts to show that no variation exists between variables or that a single variable is no different than its mean. (Investopidia, 2019)\n",
    "\n",
    "**Null Hypothesis** the person can not tell if the cup had milk in it, first or last. As we see below they have a 1.4% chance of getting it right, so you would be inclined to go with this. \n",
    "\n",
    "**Alternative Hypothesis** the person can tell."
   ]
  },
  {
   "cell_type": "code",
   "execution_count": 21,
   "metadata": {},
   "outputs": [
    {
     "name": "stdout",
     "output_type": "stream",
     "text": [
      "The chance of them getting it right is:\n"
     ]
    },
    {
     "data": {
      "text/plain": [
       "1.4285714285714286"
      ]
     },
     "execution_count": 21,
     "metadata": {},
     "output_type": "execute_result"
    }
   ],
   "source": [
    "print(\"The chance of them getting it right is:\")\n",
    "1 / 70 * 100 # Should be 1.4% chance of getting it right."
   ]
  },
  {
   "cell_type": "markdown",
   "metadata": {},
   "source": [
    "### The Distribution\n"
   ]
  },
  {
   "cell_type": "code",
   "execution_count": 26,
   "metadata": {},
   "outputs": [
    {
     "data": {
      "text/plain": [
       "{1, 5, 6, 7}"
      ]
     },
     "execution_count": 26,
     "metadata": {},
     "output_type": "execute_result"
    }
   ],
   "source": [
    "import random\n",
    "# Simulating the problem, this is going to be the right answer.\n",
    "milkfirst = set(random.choice(poss)) # randonly selects one of the possibilities.\n",
    "milkfirst # displays the choice."
   ]
  },
  {
   "cell_type": "markdown",
   "metadata": {},
   "source": [
    "Pairs up all the elements using the function below."
   ]
  },
  {
   "cell_type": "code",
   "execution_count": 27,
   "metadata": {
    "scrolled": true
   },
   "outputs": [
    {
     "data": {
      "text/plain": [
       "[{1},\n",
       " {1},\n",
       " {1, 5},\n",
       " {1, 6},\n",
       " {1, 7},\n",
       " {1},\n",
       " {1, 5},\n",
       " {1, 6},\n",
       " {1, 7},\n",
       " {1, 5},\n",
       " {1, 6},\n",
       " {1, 7},\n",
       " {1, 5, 6},\n",
       " {1, 5, 7},\n",
       " {1, 6, 7},\n",
       " set(),\n",
       " {5},\n",
       " {6},\n",
       " {7},\n",
       " {5},\n",
       " {6},\n",
       " {7},\n",
       " {5, 6},\n",
       " {5, 7},\n",
       " {6, 7},\n",
       " {5},\n",
       " {6},\n",
       " {7},\n",
       " {5, 6},\n",
       " {5, 7},\n",
       " {6, 7},\n",
       " {5, 6},\n",
       " {5, 7},\n",
       " {6, 7},\n",
       " {5, 6, 7},\n",
       " {1},\n",
       " {1, 5},\n",
       " {1, 6},\n",
       " {1, 7},\n",
       " {1, 5},\n",
       " {1, 6},\n",
       " {1, 7},\n",
       " {1, 5, 6},\n",
       " {1, 5, 7},\n",
       " {1, 6, 7},\n",
       " {1, 5},\n",
       " {1, 6},\n",
       " {1, 7},\n",
       " {1, 5, 6},\n",
       " {1, 5, 7},\n",
       " {1, 6, 7},\n",
       " {1, 5, 6},\n",
       " {1, 5, 7},\n",
       " {1, 6, 7},\n",
       " {1, 5, 6, 7},\n",
       " {5},\n",
       " {6},\n",
       " {7},\n",
       " {5, 6},\n",
       " {5, 7},\n",
       " {6, 7},\n",
       " {5, 6},\n",
       " {5, 7},\n",
       " {6, 7},\n",
       " {5, 6, 7},\n",
       " {5, 6},\n",
       " {5, 7},\n",
       " {6, 7},\n",
       " {5, 6, 7},\n",
       " {5, 6, 7}]"
      ]
     },
     "execution_count": 27,
     "metadata": {},
     "output_type": "execute_result"
    }
   ],
   "source": [
    "# For every i in itertools, it turns them into a set. \n",
    "# Go through each element in the possibilties. \n",
    "[milkfirst & set(i) for i in itertools.combinations(cups, 4)]"
   ]
  },
  {
   "cell_type": "markdown",
   "metadata": {},
   "source": [
    "Count the number of elements in common. "
   ]
  },
  {
   "cell_type": "code",
   "execution_count": 31,
   "metadata": {},
   "outputs": [
    {
     "data": {
      "text/plain": [
       "[1,\n",
       " 1,\n",
       " 2,\n",
       " 2,\n",
       " 2,\n",
       " 1,\n",
       " 2,\n",
       " 2,\n",
       " 2,\n",
       " 2,\n",
       " 2,\n",
       " 2,\n",
       " 3,\n",
       " 3,\n",
       " 3,\n",
       " 0,\n",
       " 1,\n",
       " 1,\n",
       " 1,\n",
       " 1,\n",
       " 1,\n",
       " 1,\n",
       " 2,\n",
       " 2,\n",
       " 2,\n",
       " 1,\n",
       " 1,\n",
       " 1,\n",
       " 2,\n",
       " 2,\n",
       " 2,\n",
       " 2,\n",
       " 2,\n",
       " 2,\n",
       " 3,\n",
       " 1,\n",
       " 2,\n",
       " 2,\n",
       " 2,\n",
       " 2,\n",
       " 2,\n",
       " 2,\n",
       " 3,\n",
       " 3,\n",
       " 3,\n",
       " 2,\n",
       " 2,\n",
       " 2,\n",
       " 3,\n",
       " 3,\n",
       " 3,\n",
       " 3,\n",
       " 3,\n",
       " 3,\n",
       " 4,\n",
       " 1,\n",
       " 1,\n",
       " 1,\n",
       " 2,\n",
       " 2,\n",
       " 2,\n",
       " 2,\n",
       " 2,\n",
       " 2,\n",
       " 3,\n",
       " 2,\n",
       " 2,\n",
       " 2,\n",
       " 3,\n",
       " 3]"
      ]
     },
     "execution_count": 31,
     "metadata": {},
     "output_type": "execute_result"
    }
   ],
   "source": [
    "counts = [len(milkfirst & set(i)) for i in itertools.combinations(cups, 4)]\n",
    "counts"
   ]
  },
  {
   "cell_type": "markdown",
   "metadata": {},
   "source": [
    "Displays the number that each of the elements **(the distribution)** has in common above, on a bar chart. "
   ]
  },
  {
   "cell_type": "code",
   "execution_count": 32,
   "metadata": {},
   "outputs": [],
   "source": [
    "import seaborn as sns"
   ]
  },
  {
   "cell_type": "markdown",
   "metadata": {},
   "source": [
    "We can see below that out of the 70 possibilites, 35 of them had two elements in common with the correct answer. \n",
    "\n",
    "**Below we can summerize how likey it is to pick all four correctly.** \n",
    "- Python randomly picked four cups, to have the milk in them first out of the eight cups. It picked, 1, 5 ,6 and 7.\n",
    "- Then out of all the possible ways of picking four things out of eight, give me a picture of how many of those possibilites had zero in common, one in common, two elements in common with the milk first set, how many had three, and four in common. \n",
    "\n",
    "- We can see in the plot that the purple stack has four cups in common, which means they picked correctly. \n",
    "- 15 have three in common (red stack), 35 have two in common, 15 have 1 in common.\n",
    "\n",
    "**There is a lot of luck in getting them all correct. Most likey outcome is that you will get two correct.** \n",
    "\n",
    "\n"
   ]
  },
  {
   "cell_type": "markdown",
   "metadata": {},
   "source": [
    "**The distribution associated with the Null Hypothesis displayed below:**"
   ]
  },
  {
   "cell_type": "code",
   "execution_count": 33,
   "metadata": {},
   "outputs": [
    {
     "data": {
      "text/plain": [
       "<matplotlib.axes._subplots.AxesSubplot at 0x1d62b8246a0>"
      ]
     },
     "execution_count": 33,
     "metadata": {},
     "output_type": "execute_result"
    },
    {
     "data": {
      "image/png": "[encoded data removed]",
      "text/plain": [
       "<Figure size 432x288 with 1 Axes>"
      ]
     },
     "metadata": {
      "needs_background": "light"
     },
     "output_type": "display_data"
    }
   ],
   "source": [
    "sns.countplot(counts)"
   ]
  },
  {
   "cell_type": "markdown",
   "metadata": {},
   "source": [
    "Calculating the chances of each outcome, from getting zero to four cups right."
   ]
  },
  {
   "cell_type": "code",
   "execution_count": 35,
   "metadata": {
    "scrolled": true
   },
   "outputs": [
    {
     "data": {
      "text/plain": [
       "21.428571428571427"
      ]
     },
     "execution_count": 35,
     "metadata": {},
     "output_type": "execute_result"
    }
   ],
   "source": [
    "15/70 *100 # Yellow stack - getting one correct."
   ]
  },
  {
   "cell_type": "code",
   "execution_count": 36,
   "metadata": {},
   "outputs": [
    {
     "data": {
      "text/plain": [
       "50.0"
      ]
     },
     "execution_count": 36,
     "metadata": {},
     "output_type": "execute_result"
    }
   ],
   "source": [
    "35 / 70 *100 # Green stack - getting two correct out of the four"
   ]
  },
  {
   "cell_type": "code",
   "execution_count": 37,
   "metadata": {},
   "outputs": [
    {
     "data": {
      "text/plain": [
       "21.428571428571427"
      ]
     },
     "execution_count": 37,
     "metadata": {},
     "output_type": "execute_result"
    }
   ],
   "source": [
    "15 / 70 *100 # Red stack - getting three correct out of the four."
   ]
  },
  {
   "cell_type": "code",
   "execution_count": 38,
   "metadata": {},
   "outputs": [
    {
     "data": {
      "text/plain": [
       "5.714285714285714"
      ]
     },
     "execution_count": 38,
     "metadata": {},
     "output_type": "execute_result"
    }
   ],
   "source": [
    "4 / 70 * 100 # Purple stack - Getting them all correct."
   ]
  },
  {
   "cell_type": "markdown",
   "metadata": {},
   "source": [
    "### It is safe to say that from our finding we can say that this is a null hypothesis.\n",
    "Getting them all correct gives us the probabilty of a five per cent chance, selecting at random."
   ]
  },
  {
   "cell_type": "markdown",
   "metadata": {},
   "source": [
    "## References \n",
    "\n",
    "https://www.irishtimes.com/news/science/how-a-tea-tasting-test-led-to-a-breakthrough-in-statistics-1.3998786\n",
    "\n",
    "https://www.investopedia.com/terms/n/null_hypothesis.asp\n",
    "\n",
    "https://www.youtube.com/watch?v=I9KsLCc-eiQ"
   ]
  },
  {
   "cell_type": "code",
   "execution_count": null,
   "metadata": {},
   "outputs": [],
   "source": []
  }
 ],
 "metadata": {
  "kernelspec": {
   "display_name": "Python 3",
   "language": "python",
   "name": "python3"
  },
  "language_info": {
   "codemirror_mode": {
    "name": "ipython",
    "version": 3
   },
   "file_extension": ".py",
   "mimetype": "text/x-python",
   "name": "python",
   "nbconvert_exporter": "python",
   "pygments_lexer": "ipython3",
   "version": "3.7.1"
  }
 },
 "nbformat": 4,
 "nbformat_minor": 2
}
